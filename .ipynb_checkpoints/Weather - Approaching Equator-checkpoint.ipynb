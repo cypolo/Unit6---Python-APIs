{
 "cells": [
  {
   "cell_type": "markdown",
   "metadata": {},
   "source": [
    "# WeatherPy"
   ]
  },
  {
   "cell_type": "markdown",
   "metadata": {},
   "source": [
    "### Analysis\n",
    "\n",
    "* __Observed Trend 1__: Although cities at Equator might not have the highest temperature, their temperatures remain high (around 80 F-Degree); North Sphere had more data when approaching the polar, this is due to the fact that there are barely any cities/countries existed passing the Antarctic Cirlcle (60ish degree) at the South Sphere. From the trend of \"City Latitude vs. Max Temperature (03/17/18)\" graph, the temperature climbs up when approaching from both side of the Polars to the Equator.\n",
    "* __Observed Trend 2__: From graph \"City Latitude vs Humidity (03/17/18)\", humidities varies among cities even at the same Latitude. There are more than just latitude affecting the humidity (i.e. geographic location). However, we did saw that the humidity among cities around equator retain relatively moderate-to-high-humidity (40%-100%). This could mainly cause by the constant hot weather around equator area.  \n",
    "* __Observed Trend 3__: From graph \"City Latitude vs Wind Speed (03/17/18)\", The wind speeds for cities around Equator below 20mph. However, temperature (due to the constantly high temperature around Equator) is just one of the many factors that affecting the Wind Speed. Thus the correlation might seems a bit low. "
   ]
  },
  {
   "cell_type": "code",
   "execution_count": 1,
   "metadata": {},
   "outputs": [],
   "source": [
    "# Import dependencies\n",
    "import pandas as pd\n",
    "import numpy as np\n",
    "import matplotlib.pyplot as plt\n",
    "import seaborn as sns\n",
    "from citipy import citipy\n",
    "import requests\n",
    "\n",
    "# Import API Key\n",
    "from config import api_key\n",
    "#print(api_key)"
   ]
  },
  {
   "cell_type": "markdown",
   "metadata": {},
   "source": [
    "## Generate Cities List"
   ]
  },
  {
   "cell_type": "code",
   "execution_count": 2,
   "metadata": {},
   "outputs": [
    {
     "data": {
      "text/html": [
       "<div>\n",
       "<style scoped>\n",
       "    .dataframe tbody tr th:only-of-type {\n",
       "        vertical-align: middle;\n",
       "    }\n",
       "\n",
       "    .dataframe tbody tr th {\n",
       "        vertical-align: top;\n",
       "    }\n",
       "\n",
       "    .dataframe thead th {\n",
       "        text-align: right;\n",
       "    }\n",
       "</style>\n",
       "<table border=\"1\" class=\"dataframe\">\n",
       "  <thead>\n",
       "    <tr style=\"text-align: right;\">\n",
       "      <th></th>\n",
       "      <th>Latitude</th>\n",
       "      <th>Longitude</th>\n",
       "    </tr>\n",
       "  </thead>\n",
       "  <tbody>\n",
       "    <tr>\n",
       "      <th>0</th>\n",
       "      <td>-74</td>\n",
       "      <td>-176</td>\n",
       "    </tr>\n",
       "    <tr>\n",
       "      <th>1</th>\n",
       "      <td>31</td>\n",
       "      <td>74</td>\n",
       "    </tr>\n",
       "    <tr>\n",
       "      <th>2</th>\n",
       "      <td>-45</td>\n",
       "      <td>134</td>\n",
       "    </tr>\n",
       "    <tr>\n",
       "      <th>3</th>\n",
       "      <td>-39</td>\n",
       "      <td>-10</td>\n",
       "    </tr>\n",
       "    <tr>\n",
       "      <th>4</th>\n",
       "      <td>43</td>\n",
       "      <td>-102</td>\n",
       "    </tr>\n",
       "  </tbody>\n",
       "</table>\n",
       "</div>"
      ],
      "text/plain": [
       "   Latitude  Longitude\n",
       "0       -74       -176\n",
       "1        31         74\n",
       "2       -45        134\n",
       "3       -39        -10\n",
       "4        43       -102"
      ]
     },
     "execution_count": 2,
     "metadata": {},
     "output_type": "execute_result"
    }
   ],
   "source": [
    "# Import dependencies - random\n",
    "import random\n",
    "\n",
    "#Latitudes range from -90 to 90; and pick a pool of samples that's large enough\n",
    "Lat = np.random.choice(range(-90,90),5000)\n",
    "#Longitudes range from -180 to 180; and pick a pool of samples that's large enough\n",
    "Lon = np.random.choice(range(-180,180),5000)\n",
    "\n",
    "LatLon_pool = pd.DataFrame({\"Latitude\":Lat,\"Longitude\":Lon})        \n",
    "LatLon_pool.head(5)"
   ]
  },
  {
   "cell_type": "code",
   "execution_count": 3,
   "metadata": {},
   "outputs": [
    {
     "name": "stderr",
     "output_type": "stream",
     "text": [
      "C:\\Users\\CY\\Anaconda3\\lib\\site-packages\\ipykernel_launcher.py:7: FutureWarning: set_value is deprecated and will be removed in a future release. Please use .at[] or .iat[] accessors instead\n",
      "  import sys\n",
      "C:\\Users\\CY\\Anaconda3\\lib\\site-packages\\ipykernel_launcher.py:8: FutureWarning: set_value is deprecated and will be removed in a future release. Please use .at[] or .iat[] accessors instead\n",
      "  \n"
     ]
    }
   ],
   "source": [
    "# For the selected coordinates, use citipy to associate them with nearest city.\n",
    "\n",
    "LatLon_pool[\"Closest City name\"] = \"\"\n",
    "LatLon_pool[\"Closest Country code\"] = \"\"\n",
    "for index,row in LatLon_pool.iterrows():\n",
    "    city = citipy.nearest_city(row[\"Latitude\"],row[\"Longitude\"])\n",
    "    LatLon_pool.set_value(index,\"Closest City name\",city.city_name)\n",
    "    LatLon_pool.set_value(index,\"Closest Country code\",city.country_code.upper())"
   ]
  },
  {
   "cell_type": "code",
   "execution_count": 5,
   "metadata": {},
   "outputs": [
    {
     "data": {
      "text/html": [
       "<div>\n",
       "<style scoped>\n",
       "    .dataframe tbody tr th:only-of-type {\n",
       "        vertical-align: middle;\n",
       "    }\n",
       "\n",
       "    .dataframe tbody tr th {\n",
       "        vertical-align: top;\n",
       "    }\n",
       "\n",
       "    .dataframe thead th {\n",
       "        text-align: right;\n",
       "    }\n",
       "</style>\n",
       "<table border=\"1\" class=\"dataframe\">\n",
       "  <thead>\n",
       "    <tr style=\"text-align: right;\">\n",
       "      <th></th>\n",
       "      <th>Closest City name</th>\n",
       "      <th>Closest Country code</th>\n",
       "    </tr>\n",
       "  </thead>\n",
       "  <tbody>\n",
       "    <tr>\n",
       "      <th>0</th>\n",
       "      <td>novolabinskaya</td>\n",
       "      <td>RU</td>\n",
       "    </tr>\n",
       "    <tr>\n",
       "      <th>1</th>\n",
       "      <td>guymon</td>\n",
       "      <td>US</td>\n",
       "    </tr>\n",
       "    <tr>\n",
       "      <th>2</th>\n",
       "      <td>ust-tsilma</td>\n",
       "      <td>RU</td>\n",
       "    </tr>\n",
       "    <tr>\n",
       "      <th>3</th>\n",
       "      <td>elliot</td>\n",
       "      <td>ZA</td>\n",
       "    </tr>\n",
       "    <tr>\n",
       "      <th>4</th>\n",
       "      <td>ushuaia</td>\n",
       "      <td>AR</td>\n",
       "    </tr>\n",
       "  </tbody>\n",
       "</table>\n",
       "</div>"
      ],
      "text/plain": [
       "  Closest City name Closest Country code\n",
       "0    novolabinskaya                   RU\n",
       "1            guymon                   US\n",
       "2        ust-tsilma                   RU\n",
       "3            elliot                   ZA\n",
       "4           ushuaia                   AR"
      ]
     },
     "execution_count": 5,
     "metadata": {},
     "output_type": "execute_result"
    }
   ],
   "source": [
    "# Remove N/A values and duplicate cities\n",
    "LatLon = LatLon_pool.dropna()\n",
    "LatLon_unique = LatLon.drop_duplicates()\n",
    "\n",
    "# Picking a sample of 500 cities for analysis\n",
    "Cities = LatLon_unique.sample(500)\n",
    "Cities = Cities.reset_index()\n",
    "Cities = Cities.iloc[:,[3,4]]\n",
    "Cities.head()"
   ]
  },
  {
   "cell_type": "markdown",
   "metadata": {},
   "source": [
    "## Perform API Calls"
   ]
  },
  {
   "cell_type": "code",
   "execution_count": null,
   "metadata": {},
   "outputs": [],
   "source": [
    "# Perform a weather check on each of the cities using a series of successive API calls.\n",
    "# Include a print log of each city as it's being processed with the city number, city name, and requested URL.\n",
    "\n",
    "# Save config information\n",
    "url = \"http://api.openweathermap.org/data/2.5/weather?\"\n",
    "params = { \"appid\" :key,\"units\":\"imperial\" }\n",
    "\n",
    "print(\"-----------------------------------------\")\n",
    "print(\"Beginning Data Retrieval\")\n",
    "print(\"-----------------------------------------\\n\")\n",
    "\n",
    "# loop throught the Cities and append them to a dataframe\n",
    "for index,row in SampCities.iterrows():\n",
    "    params[\"q\"] =f'{row[\"Closest City name\"]},{row[\"Closest Country code\"]}'\n",
    "    print(f\"Processing Record {index+1} of {len(SampCities)} | for City,Country: {params['q']}\")\n",
    "    CWResp = requests.get(url,params)\n",
    "    print(CWResp.url)\n",
    "    CWRespJson = CWResp.json()\n",
    "#Sample Json Response\n",
    "#{\"coord\":\n",
    "#{\"lon\":145.77,\"lat\":-16.92},\n",
    "#\"weather\":[{\"id\":803,\"main\":\"Clouds\",\"description\":\"broken clouds\",\"icon\":\"04n\"}],\n",
    "#\"base\":\"cmc stations\",\n",
    "#\"main\":{\"temp\":293.25,\"pressure\":1019,\"humidity\":83,\"temp_min\":289.82,\"temp_max\":295.37},\n",
    "#\"wind\":{\"speed\":5.1,\"deg\":150},\n",
    "#\"clouds\":{\"all\":75},\n",
    "#\"rain\":{\"3h\":3},\n",
    "#\"dt\":1435658272,\n",
    "#\"sys\":{\"type\":1,\"id\":8166,\"message\":0.0166,\"country\":\"AU\",\"sunrise\":1435610796,\"sunset\":1435650870},\n",
    "#\"id\":2172797,\n",
    "#\"name\":\"Cairns\",\n",
    "#\"cod\":200}\n",
    "    SampCities.set_value(index,\"Latitude\",CWRespJson.get(\"coord\",{}).get(\"lat\"))\n",
    "    SampCities.set_value(index,\"Longitude\",CWRespJson.get(\"coord\",{}).get(\"lon\"))\n",
    "    SampCities.set_value(index,\"Temperature\",CWRespJson.get(\"coord\",{}).get(\"lon\"))\n",
    "    SampCities.set_value(index,\"Max Temp\",CWRespJson.get(\"main\",{}).get(\"temp_max\"))\n",
    "    SampCities.set_value(index,\"Wind speed\",CWRespJson.get(\"wind\",{}).get(\"speed\"))\n",
    "    SampCities.set_value(index,\"Humidity\",CWRespJson.get(\"main\",{}).get(\"humidity\"))\n",
    "    SampCities.set_value(index,\"Cloudiness\",CWRespJson.get(\"clouds\",{}).get(\"all\"))\n",
    "    SampCities.set_value(index,\"Date\",CWRespJson.get(\"dt\"))\n",
    "\n",
    "\n",
    "print(\"-----------------------------------------\")\n",
    "print(\"Data Retrieval Complete\")\n",
    "print(\"-----------------------------------------\")\n"
   ]
  },
  {
   "cell_type": "code",
   "execution_count": null,
   "metadata": {},
   "outputs": [],
   "source": [
    "# Drop cities without infos\n",
    "SampCities = SampCities.dropna()\n",
    "CityWeather = pd.DataFrame({\"City\":SampCities[\"Closest City name\"],\n",
    "                         \"Cloudiness\":SampCities[\"Cloudiness\"],\n",
    "                         \"Country\":SampCities[\"Closest Country code\"],\n",
    "                         \"Date\":SampCities[\"Date\"],\n",
    "                         \"Humidity\":SampCities[\"Humidity\"],\n",
    "                         \"Lat\":SampCities[\"Latitude\"],\n",
    "                         \"Lng\":SampCities[\"Longitude\"],\n",
    "                         \"Max Temp\":SampCities[\"Max Temp\"],\n",
    "                         \"Wind Speed\":SampCities[\"Wind speed\"],})\n",
    "\n",
    "# Save CSV of all data retrieved \n",
    "CityWeather.to_csv(\"Sample_City_Weather_data.csv\")\n",
    "\n",
    "# Count Weather data\n",
    "CityWeather.count()"
   ]
  },
  {
   "cell_type": "code",
   "execution_count": null,
   "metadata": {},
   "outputs": [],
   "source": [
    "# Display the City Dataa Frame\n",
    "CityWeather[\"Date\"]=CityWeather[\"Date\"].astype('int')\n",
    "CityWeather.head()"
   ]
  },
  {
   "cell_type": "markdown",
   "metadata": {
    "collapsed": true
   },
   "source": [
    "## Temperature (F) vs. Latitude"
   ]
  },
  {
   "cell_type": "code",
   "execution_count": null,
   "metadata": {
    "scrolled": false
   },
   "outputs": [],
   "source": [
    "#Use the scatter function\n",
    "#Draw Latitude vs Temperature Chart\n",
    "sns.set_style(\"darkgrid\") \n",
    "fig, ax = plt.subplots(figsize=(10, 8))\n",
    "ax.scatter(CityWeather['Lat'], CityWeather['Max Temp'], c='blue',alpha=.6, linewidth=1, edgecolor='black')\n",
    "\n",
    "#Set x and y limits, title, labels\n",
    "ax.set_xlim(-90, 90)\n",
    "ax.set_ylim(min(CityWeather['Max Temp'])-20, max(CityWeather['Max Temp'])+20)\n",
    "ax.set_xlabel(\"Latitude\")\n",
    "ax.set_ylabel(\"Max Temperature (F)\")\n",
    "ax.set_title(\"City Latitude vs. Max Temperature (03/17/18)\")\n",
    "\n",
    "# Save png images for each scatter plot.\n",
    "plt.savefig(\"CityLat-MaxTemp-03.17.18.png\")\n",
    "plt.show()"
   ]
  },
  {
   "cell_type": "markdown",
   "metadata": {},
   "source": [
    "## Humidity (%) vs. Latitude"
   ]
  },
  {
   "cell_type": "code",
   "execution_count": null,
   "metadata": {},
   "outputs": [],
   "source": [
    "#Use the scatter function\n",
    "#Draw Latitude vs Humidity Chart - diff method of drawing chart\n",
    "sns.set_style(\"darkgrid\") \n",
    "g = sns.lmplot(x=\"Lat\", y='Humidity', data=CityWeather, size = 6.8,\n",
    "           aspect=1.3,palette=\"blue\", \n",
    "           scatter_kws={\"alpha\":.6,\"linewidth\":1, \n",
    "                        \"edgecolor\":'black',\"marker\":'o'}, fit_reg=False)\n",
    "#Set x and y limits, title, labels\n",
    "g = (g.set_axis_labels(\"Latitude\",\"Humidity (%)\")\n",
    "     .set(xlim=(-90, 90), ylim=(min(CityWeather['Humidity'])-20, max(CityWeather['Humidity'])+20)))\n",
    "plt.title(\"City Latitude vs. Humidity (03/17/2018)\")\n",
    "\n",
    "# Save png images for each scatter plot.\n",
    "plt.savefig(\"CityLat-Humidity-03.17.18.png\")\n",
    "plt.show()"
   ]
  },
  {
   "cell_type": "markdown",
   "metadata": {},
   "source": [
    "## Cloudiness (%) vs. Latitude"
   ]
  },
  {
   "cell_type": "code",
   "execution_count": null,
   "metadata": {},
   "outputs": [],
   "source": [
    "#Use the scatter function\n",
    "#Draw Latitude vs Humidity Chart - diff method of drawing chart\n",
    "sns.set_style(\"darkgrid\") \n",
    "g = sns.lmplot(x=\"Lat\", y='Cloudiness', data=CityWeather, size = 6.8,\n",
    "           aspect=1.3,palette=\"blue\", \n",
    "           scatter_kws={\"alpha\":.6,\"linewidth\":1, \n",
    "                        \"edgecolor\":'black',\"marker\":'o'}, fit_reg=False)\n",
    "#Set x and y limits, title, labels\n",
    "g = (g.set_axis_labels(\"Latitude\",\"Cloudiness (%)\")\n",
    "     .set(xlim=(-90, 90), ylim=(min(CityWeather['Cloudiness'])-20, max(CityWeather['Cloudiness'])+20)))\n",
    "plt.title(\"City Latitude vs. Cloudiness (03/17/2018)\")\n",
    "\n",
    "# Save png images for each scatter plot.\n",
    "plt.savefig(\"CityLat-Cloudiness-03.17.18.png\")\n",
    "plt.show()"
   ]
  },
  {
   "cell_type": "markdown",
   "metadata": {},
   "source": [
    "## Wind Speed (mph) vs. Latitude"
   ]
  },
  {
   "cell_type": "code",
   "execution_count": null,
   "metadata": {},
   "outputs": [],
   "source": [
    "#Use the scatter function\n",
    "#Draw Latitude vs Humidity Chart - diff method of drawing chart\n",
    "sns.set_style(\"darkgrid\") \n",
    "g = sns.lmplot(x=\"Lat\", y='Wind Speed', data=CityWeather, size = 6.8,\n",
    "           aspect=1.3,palette=\"blue\", \n",
    "           scatter_kws={\"alpha\":.6,\"linewidth\":1, \n",
    "                        \"edgecolor\":'black',\"marker\":'o'}, fit_reg=False)\n",
    "#Set x and y limits, title, labels\n",
    "g = (g.set_axis_labels(\"Latitude\",\"Wind Speed (mph)\")\n",
    "     .set(xlim=(-90, 90), ylim=(min(CityWeather['Wind Speed'])-20, max(CityWeather['Wind Speed'])+20)))\n",
    "plt.title(\"City Latitude vs. Wind Speed (03/17/2018)\")\n",
    "\n",
    "# Save png images for each scatter plot.\n",
    "plt.savefig(\"CityLat-WindSpeed-03.17.18.png\")\n",
    "plt.show()"
   ]
  }
 ],
 "metadata": {
  "kernelspec": {
   "display_name": "Python 3",
   "language": "python",
   "name": "python3"
  },
  "language_info": {
   "codemirror_mode": {
    "name": "ipython",
    "version": 3
   },
   "file_extension": ".py",
   "mimetype": "text/x-python",
   "name": "python",
   "nbconvert_exporter": "python",
   "pygments_lexer": "ipython3",
   "version": "3.7.1"
  }
 },
 "nbformat": 4,
 "nbformat_minor": 2
}
